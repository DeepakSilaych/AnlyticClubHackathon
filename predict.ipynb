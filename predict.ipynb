{
  "nbformat": 4,
  "nbformat_minor": 0,
  "metadata": {
    "colab": {
      "provenance": []
    },
    "kernelspec": {
      "name": "python3",
      "display_name": "Python 3"
    },
    "language_info": {
      "name": "python"
    }
  },
  "cells": [
    {
      "cell_type": "code",
      "source": [
        "="
      ],
      "metadata": {
        "id": "mCm0BIwX3C_L"
      },
      "execution_count": null,
      "outputs": []
    },
    {
      "cell_type": "code",
      "execution_count": null,
      "metadata": {
        "id": "5664hpuu3BE3"
      },
      "outputs": [],
      "source": [
        "def predict_group_session_suggestion(new_data):=\n",
        "    loaded_model = joblib.load(model_filename)=\n",
        "    new_data_for_prediction = new_data[selected_features].values=\n",
        "    predictions = loaded_model.predict(new_data_for_prediction)\n",
        "    return predictions\n"
      ]
    }
  ]
}